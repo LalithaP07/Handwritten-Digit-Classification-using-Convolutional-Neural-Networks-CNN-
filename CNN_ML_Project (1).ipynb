{
  "nbformat": 4,
  "nbformat_minor": 0,
  "metadata": {
    "colab": {
      "provenance": []
    },
    "kernelspec": {
      "name": "python3",
      "display_name": "Python 3"
    },
    "language_info": {
      "name": "python"
    }
  },
  "cells": [
    {
      "cell_type": "markdown",
      "source": [
        "# **CSC 722 U15 - Machine Learning Fundamentals**"
      ],
      "metadata": {
        "id": "K9-cNJBjMgoL"
      }
    },
    {
      "cell_type": "markdown",
      "source": [
        "Team members\n",
        "\n",
        "---\n",
        "\n",
        "1. Lalitha Priya Bijja - 101168225\n",
        "2."
      ],
      "metadata": {
        "id": "FZyo5gC1Mgai"
      }
    },
    {
      "cell_type": "markdown",
      "source": [
        "Importing libraries and Preprocessing data\n",
        "\n",
        "Preprocessed data by normalization and reshaping"
      ],
      "metadata": {
        "id": "-t1N8-HI5Vga"
      }
    },
    {
      "cell_type": "code",
      "execution_count": null,
      "metadata": {
        "colab": {
          "base_uri": "https://localhost:8080/"
        },
        "id": "CCQMw4Rroe1k",
        "outputId": "0f7db305-1398-4e7c-f352-3e78a87ffccc"
      },
      "outputs": [
        {
          "output_type": "stream",
          "name": "stdout",
          "text": [
            "Downloading data from https://storage.googleapis.com/tensorflow/tf-keras-datasets/mnist.npz\n",
            "11490434/11490434 [==============================] - 0s 0us/step\n"
          ]
        }
      ],
      "source": [
        "import tensorflow as tf\n",
        "from tensorflow.keras.datasets import mnist\n",
        "from tensorflow.keras.utils import to_categorical\n",
        "\n",
        "# Load the MNIST dataset\n",
        "(X_train, y_train), (X_test, y_test) = mnist.load_data()\n",
        "# Reshape and normalize the input training data\n",
        "X_train = X_train.reshape(-1, 28, 28, 1) / 255.0\n",
        "# Reshape and normalize the input testing data\n",
        "X_test = X_test.reshape(-1, 28, 28, 1) / 255.0\n",
        "# Convert the training labels to one-hot encoded format\n",
        "y_train = to_categorical(y_train, num_classes=10)\n",
        "# Convert the testing labels to one-hot encoded format\n",
        "y_test = to_categorical(y_test, num_classes=10)"
      ]
    },
    {
      "cell_type": "markdown",
      "source": [
        "Convolutional Neural Network Architecture"
      ],
      "metadata": {
        "id": "WHgx3jHjFxvs"
      }
    },
    {
      "cell_type": "code",
      "source": [
        "from tensorflow.keras.models import Sequential\n",
        "from tensorflow.keras.layers import Conv2D, MaxPooling2D, Flatten, Dense\n",
        "\n",
        "# Create CNN model\n",
        "model = Sequential([\n",
        "    Conv2D(32, (3, 3), activation='relu', input_shape=(28, 28, 1)),# Add a 2D convolutional layer with 32 filters, each of size 3x3, using ReLU activation function.\n",
        "    # Input shape is (28, 28, 1) representing height, width, and channels of the input image.\n",
        "    MaxPooling2D((2, 2)), # Add a max pooling layer with pool size (2, 2)\n",
        "    Conv2D(64, (3, 3), activation='relu'), # Add another 2D convolutional layer with 64 filters, each of size 3x3, using ReLU activation function.\n",
        "    MaxPooling2D((2, 2)), # Add another max pooling layer with pool size (2, 2)\n",
        "    Conv2D(64, (3, 3), activation='relu'), # Add another 2D convolutional layer with 64 filters, each of size 3x3, using ReLU activation function.\n",
        "    Flatten(), # Flatten the output of the convolutional layers to pass to the dense layer\n",
        "    Dense(64, activation='relu'),  # Add a dense (fully connected) layer with 64 neurons using ReLU activation function\n",
        "    Dense(10, activation='softmax') # Add the output layer with 10 neurons (for 10 classes) using softmax activation function\n",
        "])\n",
        "\n",
        "model.summary()\n"
      ],
      "metadata": {
        "colab": {
          "base_uri": "https://localhost:8080/"
        },
        "id": "sII6e3Apof4E",
        "outputId": "b2babbbc-3c2e-4a2e-968e-6775c912f530"
      },
      "execution_count": null,
      "outputs": [
        {
          "output_type": "stream",
          "name": "stdout",
          "text": [
            "Model: \"sequential_14\"\n",
            "_________________________________________________________________\n",
            " Layer (type)                Output Shape              Param #   \n",
            "=================================================================\n",
            " conv2d_42 (Conv2D)          (None, 26, 26, 32)        320       \n",
            "                                                                 \n",
            " max_pooling2d_28 (MaxPooli  (None, 13, 13, 32)        0         \n",
            " ng2D)                                                           \n",
            "                                                                 \n",
            " conv2d_43 (Conv2D)          (None, 11, 11, 64)        18496     \n",
            "                                                                 \n",
            " max_pooling2d_29 (MaxPooli  (None, 5, 5, 64)          0         \n",
            " ng2D)                                                           \n",
            "                                                                 \n",
            " conv2d_44 (Conv2D)          (None, 3, 3, 64)          36928     \n",
            "                                                                 \n",
            " flatten_14 (Flatten)        (None, 576)               0         \n",
            "                                                                 \n",
            " dense_28 (Dense)            (None, 64)                36928     \n",
            "                                                                 \n",
            " dense_29 (Dense)            (None, 10)                650       \n",
            "                                                                 \n",
            "=================================================================\n",
            "Total params: 93322 (364.54 KB)\n",
            "Trainable params: 93322 (364.54 KB)\n",
            "Non-trainable params: 0 (0.00 Byte)\n",
            "_________________________________________________________________\n"
          ]
        }
      ]
    },
    {
      "cell_type": "markdown",
      "source": [
        "Max Pooling"
      ],
      "metadata": {
        "id": "l3c3KVa3J84P"
      }
    },
    {
      "cell_type": "code",
      "source": [
        "from tensorflow.keras.layers import MaxPooling2D\n",
        "\n",
        "# Example of max pooling layer\n",
        "max_pool_layer = MaxPooling2D(pool_size=(2, 2))\n"
      ],
      "metadata": {
        "id": "E8QA0tY8olvr"
      },
      "execution_count": null,
      "outputs": []
    },
    {
      "cell_type": "markdown",
      "source": [
        "Fully connected layer and softmax"
      ],
      "metadata": {
        "id": "v9RM8BJQJ_lI"
      }
    },
    {
      "cell_type": "code",
      "source": [
        "from tensorflow.keras.layers import Dense\n",
        "\n",
        "# Fully connected layer followed by softmax\n",
        "dense_layer = Dense(64, activation='relu') # Create a dense (fully connected) layer with 64 neurons using ReLU activation function\n",
        "softmax_layer = Dense(10, activation='softmax') # Create the output layer with 10 neurons (for 10 classes) using softmax activation function\n"
      ],
      "metadata": {
        "id": "apQ_jwhzomem"
      },
      "execution_count": null,
      "outputs": []
    },
    {
      "cell_type": "markdown",
      "source": [
        "Training and evaluation"
      ],
      "metadata": {
        "id": "OdKYyiEaKHqh"
      }
    },
    {
      "cell_type": "code",
      "source": [
        "# Compile and train the model\n",
        "model.compile(optimizer='adam', loss='categorical_crossentropy', metrics=['accuracy']) # Compile the model with Adam optimizer, categorical crossentropy loss function, and accuracy metric\n",
        "\n",
        "# Train the model on the training data for 10 epochs with a batch size of 128\n",
        "# Validate the model's performance on the test data during training\n",
        "history = model.fit(X_train, y_train, epochs=10, batch_size=128, validation_data=(X_test, y_test))\n",
        "\n",
        "# Evaluate the model\n",
        "test_loss, test_accuracy = model.evaluate(X_test, y_test) # Evaluate the trained model on the test data to get loss and accuracy\n",
        "print(f'Test Accuracy: {test_accuracy}') # Print the test accuracy\n"
      ],
      "metadata": {
        "colab": {
          "base_uri": "https://localhost:8080/"
        },
        "id": "4o56jTggoojo",
        "outputId": "54cf08da-d449-45f0-c09a-d4ddc1661ddf"
      },
      "execution_count": null,
      "outputs": [
        {
          "output_type": "stream",
          "name": "stdout",
          "text": [
            "Epoch 1/10\n",
            "469/469 [==============================] - 44s 91ms/step - loss: 0.2393 - accuracy: 0.9313 - val_loss: 0.0783 - val_accuracy: 0.9724\n",
            "Epoch 2/10\n",
            "469/469 [==============================] - 44s 94ms/step - loss: 0.0588 - accuracy: 0.9818 - val_loss: 0.0548 - val_accuracy: 0.9826\n",
            "Epoch 3/10\n",
            "469/469 [==============================] - 43s 93ms/step - loss: 0.0416 - accuracy: 0.9870 - val_loss: 0.0376 - val_accuracy: 0.9875\n",
            "Epoch 4/10\n",
            "469/469 [==============================] - 42s 89ms/step - loss: 0.0329 - accuracy: 0.9900 - val_loss: 0.0326 - val_accuracy: 0.9886\n",
            "Epoch 5/10\n",
            "469/469 [==============================] - 41s 88ms/step - loss: 0.0255 - accuracy: 0.9921 - val_loss: 0.0321 - val_accuracy: 0.9900\n",
            "Epoch 6/10\n",
            "469/469 [==============================] - 43s 92ms/step - loss: 0.0210 - accuracy: 0.9934 - val_loss: 0.0317 - val_accuracy: 0.9898\n",
            "Epoch 7/10\n",
            "469/469 [==============================] - 41s 88ms/step - loss: 0.0194 - accuracy: 0.9937 - val_loss: 0.0280 - val_accuracy: 0.9912\n",
            "Epoch 8/10\n",
            "469/469 [==============================] - 42s 90ms/step - loss: 0.0161 - accuracy: 0.9950 - val_loss: 0.0302 - val_accuracy: 0.9899\n",
            "Epoch 9/10\n",
            "469/469 [==============================] - 41s 87ms/step - loss: 0.0118 - accuracy: 0.9963 - val_loss: 0.0286 - val_accuracy: 0.9902\n",
            "Epoch 10/10\n",
            "469/469 [==============================] - 43s 92ms/step - loss: 0.0112 - accuracy: 0.9963 - val_loss: 0.0294 - val_accuracy: 0.9916\n",
            "313/313 [==============================] - 2s 7ms/step - loss: 0.0294 - accuracy: 0.9916\n",
            "Test Accuracy: 0.991599977016449\n"
          ]
        }
      ]
    },
    {
      "cell_type": "markdown",
      "source": [
        "K-Fold and confusion matrix"
      ],
      "metadata": {
        "id": "oO3YR-SeKT3y"
      }
    },
    {
      "cell_type": "code",
      "source": [
        "from sklearn.model_selection import KFold\n",
        "from sklearn.metrics import confusion_matrix\n",
        "\n",
        "# Use KFold for cross-validation\n",
        "kfold = KFold(n_splits=5, shuffle=True) # Use KFold for cross-validation with 5 splits and shuffling the data\n",
        "\n",
        "# Iterate over each fold\n",
        "for train_index, test_index in kfold.split(X_train):\n",
        "    # Split the training data into training and validation sets\n",
        "    X_train_fold, X_val_fold = X_train[train_index], X_train[test_index]\n",
        "    y_train_fold, y_val_fold = y_train[train_index], y_train[test_index]\n",
        "\n",
        "    # Train and evaluate model for each fold\n",
        "    model.fit(X_train_fold, y_train_fold)\n",
        "    # Evaluate the trained model on the validation fold\n",
        "    val_loss, val_accuracy = model.evaluate(X_val_fold, y_val_fold)\n",
        "    print(f'Validation Accuracy: {val_accuracy}')\n",
        "\n",
        "    # Generate confusion matrix\n",
        "    predictions = model.predict(X_val_fold)\n",
        "    cm = confusion_matrix(y_val_fold.argmax(axis=1), predictions.argmax(axis=1))\n",
        "    print(cm)\n"
      ],
      "metadata": {
        "colab": {
          "base_uri": "https://localhost:8080/"
        },
        "id": "u_6nxMxGovOH",
        "outputId": "8302df05-7d45-4e0a-d404-54248e391976"
      },
      "execution_count": null,
      "outputs": [
        {
          "output_type": "stream",
          "name": "stdout",
          "text": [
            "1500/1500 [==============================] - 41s 27ms/step - loss: 0.0347 - accuracy: 0.9886\n",
            "375/375 [==============================] - 3s 8ms/step - loss: 0.0200 - accuracy: 0.9942\n",
            "Validation Accuracy: 0.9941666722297668\n",
            "375/375 [==============================] - 5s 13ms/step\n",
            "[[1173    0    0    0    0    0    0    0    0    0]\n",
            " [   1 1401    0    0    0    0    0    1    0    0]\n",
            " [   1    6 1214    0    0    0    0    5    0    0]\n",
            " [   0    1    4 1210    0    2    0    4    2    0]\n",
            " [   0    1    0    0 1188    0    1    0    1    1]\n",
            " [   0    1    0    2    0 1048    1    1    0    0]\n",
            " [   0    0    0    0    1    0 1144    0    0    0]\n",
            " [   1    1    4    0    0    1    0 1209    0    3]\n",
            " [   6    1    1    1    1    2    3    0 1134    1]\n",
            " [   0    0    0    0    4    1    0    1    1 1209]]\n",
            "1500/1500 [==============================] - 37s 25ms/step - loss: 0.0203 - accuracy: 0.9936\n",
            "375/375 [==============================] - 3s 7ms/step - loss: 0.0337 - accuracy: 0.9887\n",
            "Validation Accuracy: 0.9887499809265137\n",
            "375/375 [==============================] - 4s 10ms/step\n",
            "[[1185    0    0    0    0    1    0    0    1    0]\n",
            " [   0 1308    1    0    0    0    0    4    0    0]\n",
            " [   0    3 1168    2    0    0    0    4    4    0]\n",
            " [   0    1    1 1189    0   13    0    0    0    1]\n",
            " [   1    2    6    0 1204    1    5    0    1   15]\n",
            " [   0    0    0    0    0 1107    0    0    0    0]\n",
            " [   2    2    2    1    1   26 1155    0    2    0]\n",
            " [   0    3    2    0    2    0    0 1254    0    0]\n",
            " [   0    1    2    1    0   10    0    0 1133    1]\n",
            " [   3    0    0    0    0    4    0    3    0 1162]]\n",
            "1500/1500 [==============================] - 39s 26ms/step - loss: 0.0182 - accuracy: 0.9940\n",
            "375/375 [==============================] - 3s 7ms/step - loss: 0.0163 - accuracy: 0.9945\n",
            "Validation Accuracy: 0.9944999814033508\n",
            "375/375 [==============================] - 3s 7ms/step\n",
            "[[1221    0    0    0    0    0    0    0    0    0]\n",
            " [   0 1338    0    0    0    0    0    1    0    1]\n",
            " [   0    0 1138    0    0    0    0    0    1    2]\n",
            " [   0    0    0 1230    0    2    0    0    2    1]\n",
            " [   0    3    0    0 1131    0    0    0    2    9]\n",
            " [   0    1    0    4    0 1047    2    0    1    0]\n",
            " [   2    6    0    0    0    1 1145    0    2    0]\n",
            " [   0   10    0    1    0    0    0 1250    0    5]\n",
            " [   0    1    0    0    0    0    0    0 1206    1]\n",
            " [   1    0    0    1    0    1    0    0    2 1228]]\n",
            "1500/1500 [==============================] - 35s 23ms/step - loss: 0.0132 - accuracy: 0.9958\n",
            "375/375 [==============================] - 3s 7ms/step - loss: 0.0100 - accuracy: 0.9962\n",
            "Validation Accuracy: 0.9962499737739563\n",
            "375/375 [==============================] - 3s 9ms/step\n",
            "[[1194    0    0    0    0    0    3    0    0    1]\n",
            " [   0 1321    0    0    0    0    0    1    2    0]\n",
            " [   0    0 1193    1    0    0    0    0    2    0]\n",
            " [   0    0    1 1255    0    3    0    0    0    0]\n",
            " [   0    1    0    0 1113    0    0    1    0    4]\n",
            " [   0    0    0    0    0 1096    4    1    0    0]\n",
            " [   1    0    0    0    0    0 1226    0    0    0]\n",
            " [   0    0    1    0    0    0    0 1264    0    0]\n",
            " [   0    0    0    0    1    0    0    0 1183    6]\n",
            " [   1    1    0    0    1    1    0    5    2 1110]]\n",
            "1500/1500 [==============================] - 36s 24ms/step - loss: 0.0131 - accuracy: 0.9960\n",
            "375/375 [==============================] - 3s 7ms/step - loss: 0.0122 - accuracy: 0.9966\n",
            "Validation Accuracy: 0.9965833425521851\n",
            "375/375 [==============================] - 3s 7ms/step\n",
            "[[1144    0    0    0    0    0    0    0    0    0]\n",
            " [   0 1360    0    0    1    0    0    1    0    0]\n",
            " [   0    1 1210    2    0    0    0    0    0    1]\n",
            " [   0    0    0 1208    0    0    0    1    0    0]\n",
            " [   0    0    0    0 1148    0    0    2    0    1]\n",
            " [   0    1    0    5    0 1092    2    1    4    0]\n",
            " [   3    0    0    0    1    0 1195    0    0    0]\n",
            " [   0    3    0    0    0    0    0 1251    0    0]\n",
            " [   0    1    0    0    0    1    1    0 1152    0]\n",
            " [   0    0    0    0    2    1    0    5    0 1199]]\n"
          ]
        }
      ]
    },
    {
      "cell_type": "markdown",
      "source": [
        "Documentation and analysis"
      ],
      "metadata": {
        "id": "shdCTce4KYNU"
      }
    },
    {
      "cell_type": "code",
      "source": [
        "report = \"\"\"\n",
        "Handwritten Digit Classification using Convolutional Neural Networks (CNN)\n",
        "\n",
        "Objective:\n",
        "The objective of this project is to build a Convolutional Neural Network (CNN) from scratch to classify handwritten digits using the MNIST dataset. The CNN architecture will include convolutional layers with ReLU activation, max pooling, and fully connected layers followed by a softmax activation function. The project will be thoroughly documented and uploaded to GitHub.\n",
        "\n",
        "Dataset:\n",
        "The project utilizes the MNIST dataset, a classic benchmark dataset for handwritten digit recognition. The dataset consists of 60,000 training images and 10,000 testing images, each of size 28x28 pixels.\n",
        "\n",
        "Data Preparation:\n",
        "\n",
        "The MNIST dataset is loaded and preprocessed.\n",
        "The images are normalized to have pixel values in the range [0, 1].\n",
        "The input images are reshaped to have a shape of (num_samples, 28, 28, 1) where num_samples is the number of images in the dataset.\n",
        "The target labels are one-hot encoded to convert integer labels into binary class matrices.\n",
        "Convolutional Neural Network Architecture:\n",
        "\n",
        "The CNN architecture consists of:\n",
        "3 Convolutional layers with ReLU activation.\n",
        "3 MaxPooling layers for downsampling.\n",
        "2 Dense (fully connected) layers with ReLU activation and softmax activation for classification.\n",
        "Each layer's parameters and dimensions are documented.\n",
        "The model architecture is visualized using TensorBoard.\n",
        "Training and Evaluation:\n",
        "\n",
        "The CNN model is compiled with the Adam optimizer, categorical crossentropy loss function, and accuracy metric.\n",
        "The model is trained on the MNIST training dataset for 10 epochs with a batch size of 128.\n",
        "Validation data is used to monitor the model's performance during training.\n",
        "After training, the model is evaluated on the MNIST test dataset to calculate test accuracy.\n",
        "K-Fold cross-validation is performed to validate the model's performance and generate confusion matrices for each fold.\n",
        "Documentation and Analysis:\n",
        "\n",
        "The code is thoroughly documented with comments to enhance readability.\n",
        "Each component of the CNN implementation, including data preprocessing, model architecture, training, and evaluation, is explained.\n",
        "Confusion matrices generated during K-Fold cross-validation provide insights into the model's performance across different folds.\n",
        "Conclusion:\n",
        "In conclusion, the project successfully demonstrates the implementation of a CNN for handwritten digit classification using the MNIST dataset. The CNN achieves high accuracy on the test dataset and shows consistent performance across different folds in K-Fold cross-validation. The thorough documentation and analysis provide valuable insights into the CNN implementation and its performance.\"\"\"\n",
        "\n",
        "print (report)\n"
      ],
      "metadata": {
        "colab": {
          "base_uri": "https://localhost:8080/"
        },
        "id": "RsWgh-ncJm6p",
        "outputId": "d66a0d6b-e76d-40a0-dcd4-2d3f027957dd"
      },
      "execution_count": null,
      "outputs": [
        {
          "output_type": "stream",
          "name": "stdout",
          "text": [
            " \n",
            "Handwritten Digit Classification using Convolutional Neural Networks (CNN)\n",
            "\n",
            "Objective:\n",
            "The objective of this project is to build a Convolutional Neural Network (CNN) from scratch to classify handwritten digits using the MNIST dataset. The CNN architecture will include convolutional layers with ReLU activation, max pooling, and fully connected layers followed by a softmax activation function. The project will be thoroughly documented and uploaded to GitHub.\n",
            "\n",
            "Dataset:\n",
            "The project utilizes the MNIST dataset, a classic benchmark dataset for handwritten digit recognition. The dataset consists of 60,000 training images and 10,000 testing images, each of size 28x28 pixels.\n",
            "\n",
            "Data Preparation:\n",
            "\n",
            "The MNIST dataset is loaded and preprocessed.\n",
            "The images are normalized to have pixel values in the range [0, 1].\n",
            "The input images are reshaped to have a shape of (num_samples, 28, 28, 1) where num_samples is the number of images in the dataset.\n",
            "The target labels are one-hot encoded to convert integer labels into binary class matrices.\n",
            "Convolutional Neural Network Architecture:\n",
            "\n",
            "The CNN architecture consists of:\n",
            "3 Convolutional layers with ReLU activation.\n",
            "3 MaxPooling layers for downsampling.\n",
            "2 Dense (fully connected) layers with ReLU activation and softmax activation for classification.\n",
            "Each layer's parameters and dimensions are documented.\n",
            "The model architecture is visualized using TensorBoard.\n",
            "Training and Evaluation:\n",
            "\n",
            "The CNN model is compiled with the Adam optimizer, categorical crossentropy loss function, and accuracy metric.\n",
            "The model is trained on the MNIST training dataset for 10 epochs with a batch size of 128.\n",
            "Validation data is used to monitor the model's performance during training.\n",
            "After training, the model is evaluated on the MNIST test dataset to calculate test accuracy.\n",
            "K-Fold cross-validation is performed to validate the model's performance and generate confusion matrices for each fold.\n",
            "Documentation and Analysis:\n",
            "\n",
            "The code is thoroughly documented with comments to enhance readability.\n",
            "Each component of the CNN implementation, including data preprocessing, model architecture, training, and evaluation, is explained.\n",
            "Confusion matrices generated during K-Fold cross-validation provide insights into the model's performance across different folds.\n",
            "Conclusion:\n",
            "In conclusion, the project successfully demonstrates the implementation of a CNN for handwritten digit classification using the MNIST dataset. The CNN achieves high accuracy on the test dataset and shows consistent performance across different folds in K-Fold cross-validation. The thorough documentation and analysis provide valuable insights into the CNN implementation and its performance.\n"
          ]
        }
      ]
    },
    {
      "cell_type": "markdown",
      "source": [
        "Git hub link : https://github.com/LalithaP07/CNN_ML"
      ],
      "metadata": {
        "id": "ozAMGa6GOjOk"
      }
    },
    {
      "cell_type": "markdown",
      "source": [
        "![image.png](data:image/png;base64,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)"
      ],
      "metadata": {
        "id": "eu_JtF55OTbJ"
      }
    }
  ]
}